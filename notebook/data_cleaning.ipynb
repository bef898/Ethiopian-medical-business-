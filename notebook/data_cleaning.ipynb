{
 "cells": [
  {
   "cell_type": "markdown",
   "metadata": {},
   "source": [
    "load data\n"
   ]
  },
  {
   "cell_type": "code",
   "execution_count": 57,
   "metadata": {},
   "outputs": [],
   "source": [
    "import pandas as pd\n",
    "import re\n",
    "import os\n",
    "import sys\n",
    "sys.path.append(os.path.abspath('../scripts'))\n",
    "sys.path.append(os.path.abspath('../data'))\n"
   ]
  },
  {
   "cell_type": "code",
   "execution_count": 58,
   "metadata": {},
   "outputs": [],
   "source": [
    "# Load your DataFrame\n",
    "df = pd.read_csv(r'C:\\Users\\befekadum\\Documents\\10x acadamy\\WEEK7\\Ethiopian-medical-business-\\src\\messages_new1.csv')"
   ]
  },
  {
   "cell_type": "code",
   "execution_count": 59,
   "metadata": {},
   "outputs": [],
   "source": [
    "from data_cleaner import DataCleaning"
   ]
  },
  {
   "cell_type": "code",
   "execution_count": 60,
   "metadata": {},
   "outputs": [
    {
     "name": "stderr",
     "output_type": "stream",
     "text": [
      "c:\\Users\\befekadum\\Documents\\10x acadamy\\WEEK7\\Ethiopian-medical-business-\\scripts\\data_cleaner.py:17: FutureWarning: A value is trying to be set on a copy of a DataFrame or Series through chained assignment using an inplace method.\n",
      "The behavior will change in pandas 3.0. This inplace method will never work because the intermediate object on which we are setting values always behaves as a copy.\n",
      "\n",
      "For example, when doing 'df[col].method(value, inplace=True)', try using 'df.method({col: value}, inplace=True)' or df[col] = df[col].method(value) instead, to perform the operation inplace on the original object.\n",
      "\n",
      "\n",
      "  self.df['text'].fillna('No Text', inplace=True)\n",
      "c:\\Users\\befekadum\\Documents\\10x acadamy\\WEEK7\\Ethiopian-medical-business-\\scripts\\data_cleaner.py:17: SettingWithCopyWarning: \n",
      "A value is trying to be set on a copy of a slice from a DataFrame\n",
      "\n",
      "See the caveats in the documentation: https://pandas.pydata.org/pandas-docs/stable/user_guide/indexing.html#returning-a-view-versus-a-copy\n",
      "  self.df['text'].fillna('No Text', inplace=True)\n",
      "c:\\Users\\befekadum\\Documents\\10x acadamy\\WEEK7\\Ethiopian-medical-business-\\scripts\\data_cleaner.py:18: FutureWarning: A value is trying to be set on a copy of a DataFrame or Series through chained assignment using an inplace method.\n",
      "The behavior will change in pandas 3.0. This inplace method will never work because the intermediate object on which we are setting values always behaves as a copy.\n",
      "\n",
      "For example, when doing 'df[col].method(value, inplace=True)', try using 'df.method({col: value}, inplace=True)' or df[col] = df[col].method(value) instead, to perform the operation inplace on the original object.\n",
      "\n",
      "\n",
      "  self.df['image'].fillna('No Image', inplace=True)\n",
      "c:\\Users\\befekadum\\Documents\\10x acadamy\\WEEK7\\Ethiopian-medical-business-\\scripts\\data_cleaner.py:18: SettingWithCopyWarning: \n",
      "A value is trying to be set on a copy of a slice from a DataFrame\n",
      "\n",
      "See the caveats in the documentation: https://pandas.pydata.org/pandas-docs/stable/user_guide/indexing.html#returning-a-view-versus-a-copy\n",
      "  self.df['image'].fillna('No Image', inplace=True)\n",
      "c:\\Users\\befekadum\\Documents\\10x acadamy\\WEEK7\\Ethiopian-medical-business-\\scripts\\data_cleaner.py:23: SettingWithCopyWarning: \n",
      "A value is trying to be set on a copy of a slice from a DataFrame.\n",
      "Try using .loc[row_indexer,col_indexer] = value instead\n",
      "\n",
      "See the caveats in the documentation: https://pandas.pydata.org/pandas-docs/stable/user_guide/indexing.html#returning-a-view-versus-a-copy\n",
      "  self.df['timestamp'] = pd.to_datetime(self.df['timestamp'], errors='coerce')  # Coerce invalid formats to NaT\n"
     ]
    }
   ],
   "source": [
    "# Instantiate the class and clean the data\n",
    "data_cleaner = DataCleaning(df)\n",
    "df_cleaned = data_cleaner.remove_duplicates()\n",
    "df_cleaned = data_cleaner.handle_missing_values()\n",
    "df_cleaned = data_cleaner.standardize_timestamp()\n",
    "df_cleaned = data_cleaner.validate_data()\n",
    "\n",
    "\n",
    "\n"
   ]
  },
  {
   "cell_type": "code",
   "execution_count": 61,
   "metadata": {},
   "outputs": [
    {
     "name": "stdout",
     "output_type": "stream",
     "text": [
      "Cleaned data saved to C:\\Users\\befekadum\\Documents\\10x acadamy\\WEEK7\\Ethiopian-medical-business-\\data\\cleaned_data.csv\n"
     ]
    }
   ],
   "source": [
    "# Save the cleaned data to a new file\n",
    "cleaned_file_path = r'C:\\Users\\befekadum\\Documents\\10x acadamy\\WEEK7\\Ethiopian-medical-business-\\data\\cleaned_data.csv'\n",
    "data_cleaner.save_clean_data(cleaned_file_path)\n",
    "\n",
    "print(f\"Cleaned data saved to {cleaned_file_path}\")"
   ]
  },
  {
   "cell_type": "code",
   "execution_count": 62,
   "metadata": {},
   "outputs": [],
   "source": [
    "cleaned_data = pd.read_csv(r'C:\\Users\\befekadum\\Documents\\10x acadamy\\WEEK7\\Ethiopian-medical-business-\\data\\cleaned_data.csv')\n"
   ]
  },
  {
   "cell_type": "code",
   "execution_count": 63,
   "metadata": {},
   "outputs": [
    {
     "data": {
      "text/html": [
       "<div>\n",
       "<style scoped>\n",
       "    .dataframe tbody tr th:only-of-type {\n",
       "        vertical-align: middle;\n",
       "    }\n",
       "\n",
       "    .dataframe tbody tr th {\n",
       "        vertical-align: top;\n",
       "    }\n",
       "\n",
       "    .dataframe thead th {\n",
       "        text-align: right;\n",
       "    }\n",
       "</style>\n",
       "<table border=\"1\" class=\"dataframe\">\n",
       "  <thead>\n",
       "    <tr style=\"text-align: right;\">\n",
       "      <th></th>\n",
       "      <th>id</th>\n",
       "      <th>sender</th>\n",
       "      <th>timestamp</th>\n",
       "      <th>text</th>\n",
       "      <th>image</th>\n",
       "      <th>document</th>\n",
       "    </tr>\n",
       "  </thead>\n",
       "  <tbody>\n",
       "    <tr>\n",
       "      <th>0</th>\n",
       "      <td>12385</td>\n",
       "      <td>-1001666492664</td>\n",
       "      <td>2024-10-10 04:07:51</td>\n",
       "      <td>SARDINE \\nPrice 800 birr each \\nTelegram https...</td>\n",
       "      <td>C:\\Users\\befekadum\\Documents\\10x acadamy\\WEEK7...</td>\n",
       "      <td>NaN</td>\n",
       "    </tr>\n",
       "    <tr>\n",
       "      <th>1</th>\n",
       "      <td>12384</td>\n",
       "      <td>-1001666492664</td>\n",
       "      <td>2024-10-10 04:07:51</td>\n",
       "      <td>UNSALTED MIXED NUTS \\nPrice 3600 birr \\nTelegr...</td>\n",
       "      <td>C:\\Users\\befekadum\\Documents\\10x acadamy\\WEEK7...</td>\n",
       "      <td>NaN</td>\n",
       "    </tr>\n",
       "    <tr>\n",
       "      <th>2</th>\n",
       "      <td>12383</td>\n",
       "      <td>-1001666492664</td>\n",
       "      <td>2024-10-10 04:07:51</td>\n",
       "      <td>SALTED MIXED NUTS \\nPrice 3600 birr \\nTelegram...</td>\n",
       "      <td>C:\\Users\\befekadum\\Documents\\10x acadamy\\WEEK7...</td>\n",
       "      <td>NaN</td>\n",
       "    </tr>\n",
       "    <tr>\n",
       "      <th>3</th>\n",
       "      <td>12382</td>\n",
       "      <td>-1001666492664</td>\n",
       "      <td>2024-10-10 04:07:51</td>\n",
       "      <td>UNSALTED CASHEWS\\nPrice 3600 birr \\nTelegram h...</td>\n",
       "      <td>C:\\Users\\befekadum\\Documents\\10x acadamy\\WEEK7...</td>\n",
       "      <td>NaN</td>\n",
       "    </tr>\n",
       "    <tr>\n",
       "      <th>4</th>\n",
       "      <td>12381</td>\n",
       "      <td>-1001666492664</td>\n",
       "      <td>2024-10-10 04:07:50</td>\n",
       "      <td>QUAKER OATS \\nPrice 5000 birr \\nTelegram https...</td>\n",
       "      <td>C:\\Users\\befekadum\\Documents\\10x acadamy\\WEEK7...</td>\n",
       "      <td>NaN</td>\n",
       "    </tr>\n",
       "    <tr>\n",
       "      <th>...</th>\n",
       "      <td>...</td>\n",
       "      <td>...</td>\n",
       "      <td>...</td>\n",
       "      <td>...</td>\n",
       "      <td>...</td>\n",
       "      <td>...</td>\n",
       "    </tr>\n",
       "    <tr>\n",
       "      <th>4257</th>\n",
       "      <td>773</td>\n",
       "      <td>-1001102021238</td>\n",
       "      <td>2022-02-25 17:46:07</td>\n",
       "      <td>No Text</td>\n",
       "      <td>C:\\Users\\befekadum\\Documents\\10x acadamy\\WEEK7...</td>\n",
       "      <td>NaN</td>\n",
       "    </tr>\n",
       "    <tr>\n",
       "      <th>4258</th>\n",
       "      <td>410</td>\n",
       "      <td>-1001102021238</td>\n",
       "      <td>2020-05-07 10:36:43</td>\n",
       "      <td>በኢትዮጵያ በአንድ ቀን ከፍተኛ የኮሮና ቫይረስ የተገኘባቸው ሰዎች ቁጥር ...</td>\n",
       "      <td>C:\\Users\\befekadum\\Documents\\10x acadamy\\WEEK7...</td>\n",
       "      <td>NaN</td>\n",
       "    </tr>\n",
       "    <tr>\n",
       "      <th>4259</th>\n",
       "      <td>366</td>\n",
       "      <td>-1001102021238</td>\n",
       "      <td>2020-04-04 09:46:50</td>\n",
       "      <td>የኮሮናቫይረስ ከተከሰተ ጊዜ ጀምሮ ሳይንቲስቶች ለቫይረሱ ከትባት ወይም መ...</td>\n",
       "      <td>No Image</td>\n",
       "      <td>NaN</td>\n",
       "    </tr>\n",
       "    <tr>\n",
       "      <th>4260</th>\n",
       "      <td>356</td>\n",
       "      <td>-1001102021238</td>\n",
       "      <td>2020-03-29 08:14:52</td>\n",
       "      <td>ከኮሮና ቫይረስ ነፃ መሆንዋን ምን ያክል እርግጠኛኖት? ተከታታይ መሰረታዊ...</td>\n",
       "      <td>No Image</td>\n",
       "      <td>NaN</td>\n",
       "    </tr>\n",
       "    <tr>\n",
       "      <th>4261</th>\n",
       "      <td>201</td>\n",
       "      <td>-1001102021238</td>\n",
       "      <td>2019-11-29 10:07:54</td>\n",
       "      <td>ዶክተር ስዮም (ሰርጅን)\\nፕሮግራማችንን እንዴት ነበር?\\nMEBA ENTE...</td>\n",
       "      <td>C:\\Users\\befekadum\\Documents\\10x acadamy\\WEEK7...</td>\n",
       "      <td>NaN</td>\n",
       "    </tr>\n",
       "  </tbody>\n",
       "</table>\n",
       "<p>4262 rows × 6 columns</p>\n",
       "</div>"
      ],
      "text/plain": [
       "         id         sender            timestamp  \\\n",
       "0     12385 -1001666492664  2024-10-10 04:07:51   \n",
       "1     12384 -1001666492664  2024-10-10 04:07:51   \n",
       "2     12383 -1001666492664  2024-10-10 04:07:51   \n",
       "3     12382 -1001666492664  2024-10-10 04:07:51   \n",
       "4     12381 -1001666492664  2024-10-10 04:07:50   \n",
       "...     ...            ...                  ...   \n",
       "4257    773 -1001102021238  2022-02-25 17:46:07   \n",
       "4258    410 -1001102021238  2020-05-07 10:36:43   \n",
       "4259    366 -1001102021238  2020-04-04 09:46:50   \n",
       "4260    356 -1001102021238  2020-03-29 08:14:52   \n",
       "4261    201 -1001102021238  2019-11-29 10:07:54   \n",
       "\n",
       "                                                   text  \\\n",
       "0     SARDINE \\nPrice 800 birr each \\nTelegram https...   \n",
       "1     UNSALTED MIXED NUTS \\nPrice 3600 birr \\nTelegr...   \n",
       "2     SALTED MIXED NUTS \\nPrice 3600 birr \\nTelegram...   \n",
       "3     UNSALTED CASHEWS\\nPrice 3600 birr \\nTelegram h...   \n",
       "4     QUAKER OATS \\nPrice 5000 birr \\nTelegram https...   \n",
       "...                                                 ...   \n",
       "4257                                            No Text   \n",
       "4258  በኢትዮጵያ በአንድ ቀን ከፍተኛ የኮሮና ቫይረስ የተገኘባቸው ሰዎች ቁጥር ...   \n",
       "4259  የኮሮናቫይረስ ከተከሰተ ጊዜ ጀምሮ ሳይንቲስቶች ለቫይረሱ ከትባት ወይም መ...   \n",
       "4260  ከኮሮና ቫይረስ ነፃ መሆንዋን ምን ያክል እርግጠኛኖት? ተከታታይ መሰረታዊ...   \n",
       "4261  ዶክተር ስዮም (ሰርጅን)\\nፕሮግራማችንን እንዴት ነበር?\\nMEBA ENTE...   \n",
       "\n",
       "                                                  image  document  \n",
       "0     C:\\Users\\befekadum\\Documents\\10x acadamy\\WEEK7...       NaN  \n",
       "1     C:\\Users\\befekadum\\Documents\\10x acadamy\\WEEK7...       NaN  \n",
       "2     C:\\Users\\befekadum\\Documents\\10x acadamy\\WEEK7...       NaN  \n",
       "3     C:\\Users\\befekadum\\Documents\\10x acadamy\\WEEK7...       NaN  \n",
       "4     C:\\Users\\befekadum\\Documents\\10x acadamy\\WEEK7...       NaN  \n",
       "...                                                 ...       ...  \n",
       "4257  C:\\Users\\befekadum\\Documents\\10x acadamy\\WEEK7...       NaN  \n",
       "4258  C:\\Users\\befekadum\\Documents\\10x acadamy\\WEEK7...       NaN  \n",
       "4259                                           No Image       NaN  \n",
       "4260                                           No Image       NaN  \n",
       "4261  C:\\Users\\befekadum\\Documents\\10x acadamy\\WEEK7...       NaN  \n",
       "\n",
       "[4262 rows x 6 columns]"
      ]
     },
     "execution_count": 63,
     "metadata": {},
     "output_type": "execute_result"
    }
   ],
   "source": [
    "cleaned_data"
   ]
  },
  {
   "cell_type": "markdown",
   "metadata": {},
   "source": [
    "sent data to database"
   ]
  },
  {
   "cell_type": "code",
   "execution_count": 65,
   "metadata": {},
   "outputs": [],
   "source": [
    "from sent_to_db import  send_cleaned_data_to_db"
   ]
  },
  {
   "cell_type": "code",
   "execution_count": 67,
   "metadata": {},
   "outputs": [
    {
     "name": "stdout",
     "output_type": "stream",
     "text": [
      "Data successfully sent to the 'cleaned_data_table' table in the 'data_hub' database!\n"
     ]
    }
   ],
   "source": [
    "send_cleaned_data_to_db(cleaned_data, 'cleaned_data_table')"
   ]
  }
 ],
 "metadata": {
  "kernelspec": {
   "display_name": "myvenv",
   "language": "python",
   "name": "python3"
  },
  "language_info": {
   "codemirror_mode": {
    "name": "ipython",
    "version": 3
   },
   "file_extension": ".py",
   "mimetype": "text/x-python",
   "name": "python",
   "nbconvert_exporter": "python",
   "pygments_lexer": "ipython3",
   "version": "3.11.9"
  }
 },
 "nbformat": 4,
 "nbformat_minor": 2
}
