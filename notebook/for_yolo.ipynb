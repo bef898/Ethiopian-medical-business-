{
 "cells": [
  {
   "cell_type": "markdown",
   "metadata": {},
   "source": []
  },
  {
   "cell_type": "code",
   "execution_count": 1,
   "metadata": {},
   "outputs": [],
   "source": [
    "import pandas as pd\n",
    "import re\n",
    "import os\n",
    "import sys\n",
    "import torch\n",
    "sys.path.append(os.path.abspath('../scripts'))\n",
    "sys.path.append(os.path.abspath('../data'))"
   ]
  },
  {
   "cell_type": "code",
   "execution_count": 2,
   "metadata": {},
   "outputs": [],
   "source": [
    "from YOLO import run_yolo_detection"
   ]
  },
  {
   "cell_type": "code",
   "execution_count": null,
   "metadata": {},
   "outputs": [],
   "source": [
    "# Load the YOLO model\n",
    "model = torch.hub.load('ultralytics/yolov5', 'yolov5s', pretrained=True)"
   ]
  },
  {
   "cell_type": "code",
   "execution_count": 4,
   "metadata": {},
   "outputs": [],
   "source": [
    "# Main logic\n",
    "if __name__ == \"__main__\":\n",
    "    input_image_dir = r'C:\\\\Users\\\\befekadum\\\\Documents\\\\10x acadamy\\\\WEEK7\\\\Ethiopian-medical-business-\\\\data\\\\images'\n",
    "    output_image_dir = r'C:\\\\Users\\\\befekadum\\\\Documents\\\\10x acadamy\\\\WEEK7\\\\Ethiopian-medical-business-\\\\data\\\\detections'\n",
    "\n",
    "  "
   ]
  },
  {
   "cell_type": "code",
   "execution_count": null,
   "metadata": {},
   "outputs": [],
   "source": [
    "# Run YOLO detection, save annotated images, and get detection results\n",
    "detection_results = run_yolo_detection(input_image_dir, output_image_dir, conf_threshold=0.4)"
   ]
  },
  {
   "cell_type": "code",
   "execution_count": 13,
   "metadata": {},
   "outputs": [
    {
     "data": {
      "text/html": [
       "<div>\n",
       "<style scoped>\n",
       "    .dataframe tbody tr th:only-of-type {\n",
       "        vertical-align: middle;\n",
       "    }\n",
       "\n",
       "    .dataframe tbody tr th {\n",
       "        vertical-align: top;\n",
       "    }\n",
       "\n",
       "    .dataframe thead th {\n",
       "        text-align: right;\n",
       "    }\n",
       "</style>\n",
       "<table border=\"1\" class=\"dataframe\">\n",
       "  <thead>\n",
       "    <tr style=\"text-align: right;\">\n",
       "      <th></th>\n",
       "      <th>xmin</th>\n",
       "      <th>ymin</th>\n",
       "      <th>xmax</th>\n",
       "      <th>ymax</th>\n",
       "      <th>confidence</th>\n",
       "      <th>class</th>\n",
       "      <th>name</th>\n",
       "      <th>image_name</th>\n",
       "    </tr>\n",
       "  </thead>\n",
       "  <tbody>\n",
       "    <tr>\n",
       "      <th>0</th>\n",
       "      <td>2.490273</td>\n",
       "      <td>279.675110</td>\n",
       "      <td>217.003998</td>\n",
       "      <td>850.147522</td>\n",
       "      <td>0.920289</td>\n",
       "      <td>0</td>\n",
       "      <td>person</td>\n",
       "      <td>photo_2019-04-20_22-32-49.jpg</td>\n",
       "    </tr>\n",
       "    <tr>\n",
       "      <th>1</th>\n",
       "      <td>813.300659</td>\n",
       "      <td>253.700500</td>\n",
       "      <td>988.502686</td>\n",
       "      <td>850.569519</td>\n",
       "      <td>0.881012</td>\n",
       "      <td>0</td>\n",
       "      <td>person</td>\n",
       "      <td>photo_2019-04-20_22-32-49.jpg</td>\n",
       "    </tr>\n",
       "    <tr>\n",
       "      <th>2</th>\n",
       "      <td>967.986328</td>\n",
       "      <td>248.906250</td>\n",
       "      <td>1137.152588</td>\n",
       "      <td>853.000000</td>\n",
       "      <td>0.874293</td>\n",
       "      <td>0</td>\n",
       "      <td>person</td>\n",
       "      <td>photo_2019-04-20_22-32-49.jpg</td>\n",
       "    </tr>\n",
       "    <tr>\n",
       "      <th>3</th>\n",
       "      <td>1144.794800</td>\n",
       "      <td>232.615204</td>\n",
       "      <td>1279.206177</td>\n",
       "      <td>847.157471</td>\n",
       "      <td>0.864690</td>\n",
       "      <td>0</td>\n",
       "      <td>person</td>\n",
       "      <td>photo_2019-04-20_22-32-49.jpg</td>\n",
       "    </tr>\n",
       "    <tr>\n",
       "      <th>4</th>\n",
       "      <td>651.845520</td>\n",
       "      <td>231.864838</td>\n",
       "      <td>855.443542</td>\n",
       "      <td>845.337769</td>\n",
       "      <td>0.856220</td>\n",
       "      <td>0</td>\n",
       "      <td>person</td>\n",
       "      <td>photo_2019-04-20_22-32-49.jpg</td>\n",
       "    </tr>\n",
       "    <tr>\n",
       "      <th>...</th>\n",
       "      <td>...</td>\n",
       "      <td>...</td>\n",
       "      <td>...</td>\n",
       "      <td>...</td>\n",
       "      <td>...</td>\n",
       "      <td>...</td>\n",
       "      <td>...</td>\n",
       "      <td>...</td>\n",
       "    </tr>\n",
       "    <tr>\n",
       "      <th>10476</th>\n",
       "      <td>432.249817</td>\n",
       "      <td>421.728455</td>\n",
       "      <td>764.423035</td>\n",
       "      <td>903.556335</td>\n",
       "      <td>0.892511</td>\n",
       "      <td>0</td>\n",
       "      <td>person</td>\n",
       "      <td>photo_2024-10-10_04-07-50 (5).jpg</td>\n",
       "    </tr>\n",
       "    <tr>\n",
       "      <th>10477</th>\n",
       "      <td>627.069946</td>\n",
       "      <td>268.439575</td>\n",
       "      <td>945.952393</td>\n",
       "      <td>1198.739502</td>\n",
       "      <td>0.442317</td>\n",
       "      <td>39</td>\n",
       "      <td>bottle</td>\n",
       "      <td>photo_2024-10-10_04-07-50 (6).jpg</td>\n",
       "    </tr>\n",
       "    <tr>\n",
       "      <th>10478</th>\n",
       "      <td>254.181473</td>\n",
       "      <td>912.326172</td>\n",
       "      <td>782.529419</td>\n",
       "      <td>1020.054077</td>\n",
       "      <td>0.575717</td>\n",
       "      <td>73</td>\n",
       "      <td>book</td>\n",
       "      <td>photo_2024-10-10_04-07-50 (9).jpg</td>\n",
       "    </tr>\n",
       "    <tr>\n",
       "      <th>10479</th>\n",
       "      <td>253.954742</td>\n",
       "      <td>577.395752</td>\n",
       "      <td>773.615417</td>\n",
       "      <td>992.039490</td>\n",
       "      <td>0.402802</td>\n",
       "      <td>45</td>\n",
       "      <td>bowl</td>\n",
       "      <td>photo_2024-10-10_04-07-50.jpg</td>\n",
       "    </tr>\n",
       "    <tr>\n",
       "      <th>10480</th>\n",
       "      <td>1.666931</td>\n",
       "      <td>73.260101</td>\n",
       "      <td>131.475937</td>\n",
       "      <td>631.686890</td>\n",
       "      <td>0.731734</td>\n",
       "      <td>0</td>\n",
       "      <td>person</td>\n",
       "      <td>photo_2024-10-10_10-53-06.jpg</td>\n",
       "    </tr>\n",
       "  </tbody>\n",
       "</table>\n",
       "<p>10481 rows × 8 columns</p>\n",
       "</div>"
      ],
      "text/plain": [
       "              xmin        ymin         xmax         ymax  confidence  class  \\\n",
       "0         2.490273  279.675110   217.003998   850.147522    0.920289      0   \n",
       "1       813.300659  253.700500   988.502686   850.569519    0.881012      0   \n",
       "2       967.986328  248.906250  1137.152588   853.000000    0.874293      0   \n",
       "3      1144.794800  232.615204  1279.206177   847.157471    0.864690      0   \n",
       "4       651.845520  231.864838   855.443542   845.337769    0.856220      0   \n",
       "...            ...         ...          ...          ...         ...    ...   \n",
       "10476   432.249817  421.728455   764.423035   903.556335    0.892511      0   \n",
       "10477   627.069946  268.439575   945.952393  1198.739502    0.442317     39   \n",
       "10478   254.181473  912.326172   782.529419  1020.054077    0.575717     73   \n",
       "10479   253.954742  577.395752   773.615417   992.039490    0.402802     45   \n",
       "10480     1.666931   73.260101   131.475937   631.686890    0.731734      0   \n",
       "\n",
       "         name                         image_name  \n",
       "0      person      photo_2019-04-20_22-32-49.jpg  \n",
       "1      person      photo_2019-04-20_22-32-49.jpg  \n",
       "2      person      photo_2019-04-20_22-32-49.jpg  \n",
       "3      person      photo_2019-04-20_22-32-49.jpg  \n",
       "4      person      photo_2019-04-20_22-32-49.jpg  \n",
       "...       ...                                ...  \n",
       "10476  person  photo_2024-10-10_04-07-50 (5).jpg  \n",
       "10477  bottle  photo_2024-10-10_04-07-50 (6).jpg  \n",
       "10478    book  photo_2024-10-10_04-07-50 (9).jpg  \n",
       "10479    bowl      photo_2024-10-10_04-07-50.jpg  \n",
       "10480  person      photo_2024-10-10_10-53-06.jpg  \n",
       "\n",
       "[10481 rows x 8 columns]"
      ]
     },
     "execution_count": 13,
     "metadata": {},
     "output_type": "execute_result"
    }
   ],
   "source": [
    "detection_results"
   ]
  },
  {
   "cell_type": "code",
   "execution_count": 7,
   "metadata": {},
   "outputs": [],
   "source": [
    "from Db_conn import connect_to_db,create_detection_table"
   ]
  },
  {
   "cell_type": "code",
   "execution_count": 8,
   "metadata": {},
   "outputs": [],
   "source": [
    "from save_image_data_to_db import insert_detection_data"
   ]
  },
  {
   "cell_type": "code",
   "execution_count": 9,
   "metadata": {},
   "outputs": [
    {
     "name": "stdout",
     "output_type": "stream",
     "text": [
      "Table 'yolo_detections' created successfully.\n",
      "Detections inserted into the database.\n"
     ]
    }
   ],
   "source": [
    "# Connect to the database\n",
    "conn = connect_to_db()\n",
    "\n",
    "# Create the YOLO detection table\n",
    "if conn:\n",
    "    create_detection_table(conn)\n",
    "else:\n",
    "    print(\"Failed to connect to the database.\")\n",
    "if not detection_results.empty:\n",
    "    insert_detection_data(conn, detection_results)\n",
    "else:\n",
    "    print(\"No detections found.\")\n",
    "\n",
    "# Close the database connection\n",
    "conn.close()"
   ]
  },
  {
   "cell_type": "markdown",
   "metadata": {},
   "source": [
    "![alt text](image.png)"
   ]
  }
 ],
 "metadata": {
  "kernelspec": {
   "display_name": "myvenv",
   "language": "python",
   "name": "python3"
  },
  "language_info": {
   "codemirror_mode": {
    "name": "ipython",
    "version": 3
   },
   "file_extension": ".py",
   "mimetype": "text/x-python",
   "name": "python",
   "nbconvert_exporter": "python",
   "pygments_lexer": "ipython3",
   "version": "3.11.9"
  }
 },
 "nbformat": 4,
 "nbformat_minor": 2
}
